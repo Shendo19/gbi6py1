{
 "cells": [
  {
   "attachments": {},
   "cell_type": "markdown",
   "metadata": {},
   "source": [
    "<center><img src=\"https://i0.wp.com/tinkercademy.com/wp-content/uploads/2018/04/python-icon.png?ssl=1\" width=300 \n",
    "height=150 /></center>\n",
    "\n",
    "# <center> <h2 style=\"color:blue\"> PYTHON</h2></center>\n",
    "## <h2 style=\"color:yellow\"> ¿Qué es Python?\n",
    "\n",
    "Python es un lenguaje de programación ejecutable en la mayoría de arquitecturas de sistemas y es posible utilizarlo en diferentes campos para una extensa gama de aplicaciones. Es bastante versátil y de acceso gratuito (Weisheim, 2022)\n",
    "\n",
    "## Historia del creador de Python\n",
    "\n",
    "## <h10 style=\"color:white\"> Guido Van Rossum\n",
    "\n",
    "<img src=\"https://th.bing.com/th/id/R.8d45efdfe8b268c3fc937048f1b4bc67?rik=scLKq0RK8xFfag&pid=ImgRaw&r=0\" width= 300\n",
    "height=200 /></center>\n",
    "\n",
    "Es un programador holandés destacado y reconocido por ser el creador de Python. Desde que se creó en el año de 1989, este lenguaje de programación ha sido adoptado por programadores a nivel mundial a la par que es empleado para una extensa gama de aplicaciones (Saldaña, 2023)\n",
    "\n",
    "Guido Van Rossum nació en el año de 1956 en Países Bajos, con un gran interés por la programación desde muy temprana edad. Dentro de su fromación académica es posile destacar que estudió matemáticas y ciencias de la computación en una Universidad de Ámsterdam, para después comenzar a trabajar en el centro de Investigación de Matemáticas de los Países Bajos (Saldaña, 2023)\n",
    "\n",
    "Una vez llega el año 1989 en el Instituto Nacional de Estándares y Tecnología donde van Rossum crea Python. Guido tenía planteado crear un lenguaje que fuera sencillo al momento de leer y escribir, y a la par fuera bastante poderoso. El nombre que seleccionó para este lenguaje de progamación fue en base al grupo de comedia británico Monty Python (Saldaña, 2023)\n",
    "\n",
    "Tiempo después Guido continuó a cargo del desarrollo de Python, llegando al punto de establecer la Python Software Foundation surgida en el año de 2001. Hace 5 años van Rossum anunció su retiro de la fundación y de Python también. Cabe destacar que dejó consigo un legado, pues empresas de alto rango como Google, Instagram, Dropbox, Spotify y otras, utilizan hasta el día de hoy Python (Saldaña, 2023)\n",
    "\n",
    "Para el año en el que surge Guido se mantenía en una búsqueda de un proyecto de programación que pudiera mantenerlo como hooby y también fuera capaz de mantenerlo ocupado en lo que transcurría las fechas navideñas. La oficina de van Rossum se encontraba cerrada, solamente contaba con su computador que manejaba en su casa. En ese momento decidió arriesgarse y escribir un intérprete para un nuevo lenguaje de scripting, el cual había estado moldeando en ese entonces (Barrueto, 2010)\n",
    "\n",
    "Más información en https://www.maestrosdelweb.com/introspectiva-guido-van-rossum-python/\n",
    "\n",
    "Referencias Bibliográficas\n",
    "\n",
    "Barrueto, L. E. (2010, January 20). Guido van Rossum, el desarrollador de Python. Maestros del Web. https://www.maestrosdelweb.com/introspectiva-guido-van-rossum-python/\n",
    "\n",
    "Saldaña, J. D. Q. (2023). Guido van Rossum: La historia del creador de Python y su legado en la programación. Linkedin.com. https://www.linkedin.com/pulse/guido-van-rossum-la-historia-del-creador-de-python-y-quiroga-salda%C3%B1a/?originalSubdomain=es\n",
    "\n",
    "Weisheim, R. (2022, July 26). Qué es Python: conoce uno de los lenguajes de programación más populares. Tutoriales Hostinger. https://www.hostinger.es/tutoriales/que-es-python\n",
    "\n",
    "\n",
    "\n"
   ]
  },
  {
   "attachments": {},
   "cell_type": "markdown",
   "metadata": {},
   "source": [
    "Vídeos acerca de Python\n",
    "https://www.youtube.com/watch?v=Rv910T1BJUw\n"
   ]
  }
 ],
 "metadata": {
  "kernelspec": {
   "display_name": "Python 3",
   "language": "python",
   "name": "python3"
  },
  "language_info": {
   "codemirror_mode": {
    "name": "ipython",
    "version": 3
   },
   "file_extension": ".py",
   "mimetype": "text/x-python",
   "name": "python",
   "nbconvert_exporter": "python",
   "pygments_lexer": "ipython3",
   "version": "3.10.4"
  },
  "orig_nbformat": 4
 },
 "nbformat": 4,
 "nbformat_minor": 2
}
